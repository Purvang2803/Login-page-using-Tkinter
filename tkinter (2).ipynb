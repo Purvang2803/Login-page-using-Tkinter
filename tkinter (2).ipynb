{
 "cells": [
  {
   "cell_type": "markdown",
   "id": "edff1b8d-e672-449e-9a69-e60d9247148b",
   "metadata": {},
   "source": [
    "### Importing Libraries"
   ]
  },
  {
   "cell_type": "code",
   "execution_count": 72,
   "id": "edd4ea04-c4fd-4e97-a499-93b5676d4fd7",
   "metadata": {},
   "outputs": [],
   "source": [
    "import tkinter as tk\n",
    "from tkinter import messagebox\n",
    "import sqlite3"
   ]
  },
  {
   "cell_type": "markdown",
   "id": "4ba37310-2010-41aa-ae05-abc1731ae90b",
   "metadata": {},
   "source": [
    "### SQLite Database Connection and Table Creation"
   ]
  },
  {
   "cell_type": "code",
   "execution_count": 73,
   "id": "64502ee8-7bc2-42b2-9d0b-a9a344f00813",
   "metadata": {},
   "outputs": [],
   "source": [
    "def connect_db():\n",
    "    db_path = r\"C:\\\\Users\\\\DELL8\\\\OneDrive\\\\Pictures\\\\DB.Browser.for.SQLite-v3.13.1-win64\\\\user.db\"\n",
    "    conn = sqlite3.connect(db_path)\n",
    "    cursor = conn.cursor()\n",
    "    cursor.execute(\"\"\" \n",
    "        CREATE TABLE IF NOT EXISTS users (  -- Fix: Only create table if it doesn’t exist\n",
    "            username TEXT PRIMARY KEY,\n",
    "            email TEXT,\n",
    "            phone TEXT,\n",
    "            password TEXT\n",
    "        )\n",
    "    \"\"\")\n",
    "    conn.commit()\n",
    "    conn.close()\n"
   ]
  },
  {
   "cell_type": "markdown",
   "id": "99ec2d25-ee0b-45bf-a661-9d8dcacfe3de",
   "metadata": {},
   "source": [
    "### Observation:  \n",
    "The function `connect_db()` is responsible for establishing a connection to an SQLite database stored at a specific path. It ensures that a table named `users` is created if it does not already exist. The table consists of four fields: `username` (set as the primary key), `email`, `phone`, and `password`, all stored as `TEXT` data types. The function properly commits the changes and closes the database connection after execution. However, the database path is hardcoded, which can reduce the flexibility and portability of the application.  \n",
    "\n",
    "### Conclusion:  \n",
    "The implementation effectively ensures that the database and user table exist before performing any operations, preventing potential table duplication errors. However, using a relative path or allowing the user to specify the database location would improve flexibility. Additionally, implementing a `try-except` block to handle potential database connection errors would enhance the robustness of the function."
   ]
  },
  {
   "cell_type": "markdown",
   "id": "23f5d2df-4079-424d-9f0c-90598eba8016",
   "metadata": {},
   "source": [
    "### User Registration Function"
   ]
  },
  {
   "cell_type": "code",
   "execution_count": 74,
   "id": "3d7e9bda-1655-4b58-9c19-90509f450e94",
   "metadata": {},
   "outputs": [],
   "source": [
    "def register_user():\n",
    "    username = entry_username.get()\n",
    "    email = entry_email.get()\n",
    "    phone = entry_phone.get()\n",
    "    password = entry_password.get()\n",
    "    re_password = entry_re_password.get()\n",
    "\n",
    "    if username == \"\" or email == \"\" or phone == \"\" or password == \"\" or re_password == \"\":\n",
    "        messagebox.showerror(\"Error\", \"All fields are required\")\n",
    "        return\n",
    "\n",
    "    if password != re_password:\n",
    "        messagebox.showerror(\"Error\", \"Passwords do not match\")\n",
    "        return\n",
    "        \n",
    "    db_path= r\"rive\\Pictures\\DB.Browser.for.SQLite-v3.13.1-win64\\user.db\"\n",
    "    conn = sqlite3.connect(db_path)\n",
    "    cursor = conn.cursor()\n",
    "\n",
    "    try:\n",
    "        cursor.execute(\"INSERT INTO users (username, email, phone, password) VALUES (?, ?, ?, ?)\", \n",
    "                       (username, email, phone, password))\n",
    "        conn.commit()\n",
    "        # print(\"✅ User Registered:\", username)  # ❌ Remove this print statement\n",
    "        messagebox.showinfo(\"Success\", \"Registration Successful!\")\n",
    "    except sqlite3.IntegrityError:\n",
    "        messagebox.showerror(\"Error\", \"Username already exists. Please use another one.\")\n",
    "\n",
    "    conn.close()\n",
    "    register_window.destroy()\n"
   ]
  },
  {
   "cell_type": "markdown",
   "id": "23c470ab-3d4c-4468-9121-d7ac667d68a6",
   "metadata": {},
   "source": [
    "### **Observation:**  \n",
    "The `connect_db()` function is responsible for establishing a connection to an SQLite database located at a specified path. It ensures that the `users` table exists by creating it if it does not already exist. This table contains four fields: `username` (which serves as the primary key), `email`, `phone`, and `password`, all stored as `TEXT` data types. The function correctly commits any changes made to the database and closes the connection to prevent resource leaks. However, the hardcoded database path reduces portability and may cause issues if the file location changes.  \n",
    "\n",
    "### **Conclusion:**  \n",
    "The function effectively initializes the database and ensures the required table is available before performing any operations, preventing duplication errors. To improve flexibility, using a relative path or allowing the user to specify the database location dynamically would be beneficial. Additionally, wrapping the database connection and table creation process in a `try-except` block would enhance error handling and prevent crashes due to connection failures or file access issues."
   ]
  },
  {
   "cell_type": "markdown",
   "id": "0e37e6ce-3709-48ba-a0fd-29f12df00e6c",
   "metadata": {},
   "source": [
    "### Open Registration Form Function"
   ]
  },
  {
   "cell_type": "code",
   "execution_count": 75,
   "id": "1db90791-d329-478b-819b-d0c40ecde63d",
   "metadata": {},
   "outputs": [],
   "source": [
    "def open_register():\n",
    "    global register_window, entry_username, entry_email, entry_phone, entry_password, entry_re_password\n",
    "    register_window = tk.Toplevel()\n",
    "    register_window.title(\"Register\")\n",
    "    register_window.geometry(\"300x350\")\n",
    "    \n",
    "    tk.Label(register_window, text=\"Username:\").pack()\n",
    "    entry_username = tk.Entry(register_window)\n",
    "    entry_username.pack()\n",
    "    \n",
    "    tk.Label(register_window, text=\"Email:\").pack()\n",
    "    entry_email = tk.Entry(register_window)\n",
    "    entry_email.pack()\n",
    "    \n",
    "    tk.Label(register_window, text=\"Phone No:\").pack()\n",
    "    entry_phone = tk.Entry(register_window)\n",
    "    entry_phone.pack()\n",
    "    \n",
    "    tk.Label(register_window, text=\"Password:\").pack()\n",
    "    entry_password = tk.Entry(register_window, show=\"*\")\n",
    "    entry_password.pack()\n",
    "    \n",
    "    tk.Label(register_window, text=\"Re-enter Password:\").pack()\n",
    "    entry_re_password = tk.Entry(register_window, show=\"*\")\n",
    "    entry_re_password.pack()\n",
    "\n",
    "     \n",
    "    tk.Button(register_window, text=\"Register\", command=register_user).pack()\n",
    "    tk.Button(register_window, text=\"Cancel\", command=register_window.destroy).pack()"
   ]
  },
  {
   "cell_type": "markdown",
   "id": "31da1f10-e50a-48c5-a57b-b15983be38e8",
   "metadata": {},
   "source": [
    "### Observation:  \n",
    "The function `open_register()` creates a new registration window using Tkinter. It defines input fields for `username`, `email`, `phone`, `password`, and `re-enter password`, ensuring users provide necessary details for registration. Password fields are masked for security using `show=\"*\"`. The function also includes buttons for submitting the registration form (`Register`) and closing the window (`Cancel`). However, the use of `global` variables for input fields could make the code less modular and harder to maintain.  \n",
    "\n",
    "### Conclusion:  \n",
    "The function successfully provides a user interface for registration, allowing users to input required details in a structured format. However, replacing `global` variables with local references and passing the user inputs to the registration function as arguments would improve code maintainability. Additionally, adding input validation at this stage (e.g., checking email format or phone number length) would enhance the user experience by reducing errors before submission."
   ]
  },
  {
   "cell_type": "markdown",
   "id": "d313fd98-f12a-4fc6-a71b-7405b750b140",
   "metadata": {},
   "source": [
    "### User Login  Function"
   ]
  },
  {
   "cell_type": "code",
   "execution_count": 76,
   "id": "967d01a2-7cf6-4eb2-9b12-90a7f4a19d5c",
   "metadata": {},
   "outputs": [],
   "source": [
    "def login_user():\n",
    "    username = entry_login_username.get()\n",
    "    password = entry_login_password.get()\n",
    "    \n",
    "    db_path = r\"C:\\Users\\DELL8\\OneDrive\\Pictures\\DB.Browser.for.SQLite-v3.13.1-win64\\user.db\"\n",
    "    conn = sqlite3.connect(db_path)\n",
    "    cursor = conn.cursor()\n",
    "\n",
    "    cursor.execute(\"SELECT * FROM users WHERE username=? AND password=?\", (username, password))\n",
    "    user = cursor.fetchone()\n",
    "    conn.close()\n",
    "\n",
    "    if user:\n",
    "        messagebox.showinfo(\"Login Success\", f\"Welcome, {username}!\")\n",
    "    else:\n",
    "        messagebox.showerror(\"Login Failed\", \"Invalid username or password\")\n"
   ]
  },
  {
   "cell_type": "markdown",
   "id": "76da2eb0-a7e7-4cd2-9c3e-818e4365a80e",
   "metadata": {},
   "source": [
    "### **Observation:**  \n",
    "The `login_user()` function is responsible for authenticating users by checking their credentials against stored records in an SQLite database. It retrieves the `username` and `password` from the respective input fields and queries the `users` table to find a matching record. If a match is found, the user is successfully logged in; otherwise, an error message is displayed. However, the function currently stores and verifies passwords in plain text, which poses a significant security risk. Additionally, the database path is hardcoded, which reduces flexibility and may cause access issues if the file location changes.  \n",
    "\n",
    "### **Conclusion:**  \n",
    "The function successfully implements basic authentication by verifying user credentials against stored records. However, to enhance security, passwords should be hashed (e.g., using `bcrypt`) instead of being stored in plain text. Implementing a `try-except` block for database connection errors would improve reliability. Additionally, using a relative or configurable database path would enhance portability and usability across different environments."
   ]
  },
  {
   "cell_type": "markdown",
   "id": "bd39f42d-c98b-4612-8756-5a20bb2a5cc9",
   "metadata": {},
   "source": [
    "### Root Window Setup "
   ]
  },
  {
   "cell_type": "code",
   "execution_count": 77,
   "id": "dabbea7b-ac4b-45e8-8bb2-df5e86f61c58",
   "metadata": {},
   "outputs": [],
   "source": [
    "root = tk.Tk()\n",
    "root.title(\"Login Page\")\n",
    "root.geometry(\"300x250\")\n",
    "connect_db()\n"
   ]
  },
  {
   "cell_type": "markdown",
   "id": "37133c4f-3ff6-45ac-9384-eebe05ce3a40",
   "metadata": {},
   "source": [
    "### **Observation:**  \n",
    "The code initializes the Tkinter login window with a title and specific dimensions. It then calls `connect_db()` to ensure the database and necessary table exist before proceeding. However, the function lacks error handling, which may lead to unexpected crashes if the database connection fails.  \n",
    "\n",
    "### **Conclusion:**  \n",
    "The implementation correctly sets up the GUI and ensures the database is ready for use. Adding a `try-except` block for database connectivity would improve reliability and prevent errors. Additionally, using a configurable or relative database path would enhance portability across different systems."
   ]
  },
  {
   "cell_type": "markdown",
   "id": "2b732793-d008-49ce-95f5-5573972c13e9",
   "metadata": {},
   "source": [
    "### Login Form UI Function"
   ]
  },
  {
   "cell_type": "code",
   "execution_count": 78,
   "id": "2e4bf52c-9f8e-4dde-b0c5-1ac6a0c0bd4e",
   "metadata": {},
   "outputs": [],
   "source": [
    "tk.Label(root, text=\"Username:\").pack()\n",
    "entry_login_username = tk.Entry(root)\n",
    "entry_login_username.pack()\n",
    "\n",
    "tk.Label(root, text=\"Password:\").pack()\n",
    "entry_login_password = tk.Entry(root, show=\"*\")\n",
    "entry_login_password.pack()\n",
    "\n",
    "tk.Button(root, text=\"Login\", command=login_user).pack()\n",
    "tk.Button(root, text=\"Register\", command=open_register).pack()\n",
    "\n",
    "root.mainloop()\n"
   ]
  },
  {
   "cell_type": "markdown",
   "id": "8481bace-ef1d-4f28-8c9d-07a6e434154b",
   "metadata": {},
   "source": [
    "### **Observation:**  \n",
    "The code creates a simple login interface using Tkinter by adding labels, entry fields for username and password, and buttons for login and registration. The password field is masked for security using `show=\"*\"`. The `root.mainloop()` function ensures the GUI remains active and responsive.  \n",
    "\n",
    "### **Conclusion:**  \n",
    "The interface is straightforward and functional, allowing users to log in or register. However, adding input validation (e.g., checking for empty fields before submission) would enhance user experience. Improving UI layout with padding or frames would also make it more visually appealing."
   ]
  },
  {
   "cell_type": "code",
   "execution_count": null,
   "id": "3e03c12a-5d4c-4da4-9fca-e2025dfd98df",
   "metadata": {},
   "outputs": [],
   "source": []
  }
 ],
 "metadata": {
  "kernelspec": {
   "display_name": "Python 3 (ipykernel)",
   "language": "python",
   "name": "python3"
  },
  "language_info": {
   "codemirror_mode": {
    "name": "ipython",
    "version": 3
   },
   "file_extension": ".py",
   "mimetype": "text/x-python",
   "name": "python",
   "nbconvert_exporter": "python",
   "pygments_lexer": "ipython3",
   "version": "3.13.1"
  }
 },
 "nbformat": 4,
 "nbformat_minor": 5
}
